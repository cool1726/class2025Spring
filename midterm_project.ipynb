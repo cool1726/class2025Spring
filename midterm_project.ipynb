{
  "nbformat": 4,
  "nbformat_minor": 0,
  "metadata": {
    "colab": {
      "provenance": [],
      "authorship_tag": "ABX9TyOaGTVlNgUsEffZfQOB9bsM",
      "include_colab_link": true
    },
    "kernelspec": {
      "name": "python3",
      "display_name": "Python 3"
    },
    "language_info": {
      "name": "python"
    }
  },
  "cells": [
    {
      "cell_type": "markdown",
      "metadata": {
        "id": "view-in-github",
        "colab_type": "text"
      },
      "source": [
        "<a href=\"https://colab.research.google.com/github/cool1726/class2025Spring/blob/main/midterm_project.ipynb\" target=\"_parent\"><img src=\"https://colab.research.google.com/assets/colab-badge.svg\" alt=\"Open In Colab\"/></a>"
      ]
    },
    {
      "cell_type": "markdown",
      "source": [
        "# 자연어처리 중간 과제: 잡코리아 합격자소서 문항-답변 크롤링\n",
        "학번 2024511049  \n",
        "  \n",
        "### 과제 배경\n",
        "- 잡코리아 합격 자소서의 문항-답변을 크롤링하는 프로젝트를 진행하였다.\n",
        "- ChatGPT를 활용해 기업 채용에 쓰이는 자기소개서(이하 자소서)를 생성하고, 생성된 자소서를 데이터셋으로 하여 논문 연구를 진행하고자 한다.\n",
        "- ChatGPT가 특정 산업군/직군에 대해 전문적인 자소서를 작성할 수 있도록 **고품질의 자소서 데이터셋 구축을 위해 잡코리아에서 제공하는 합격자소서를 크롤링하여 활용**하고자 한다.\n",
        "\n",
        "### 개요\n",
        "- 잡코리아 합격자소서의 경우 지원분야를 검색 필터로 제공한다. Search Filters와 Pagination은 접속 URL의 GET Parameter로 포함되므로 파라미터를 활용해 **`의료.바이오`, `마케팅.광고.MD`** 분야의 합격자소서를 크롤링한다.\n",
        "\n",
        "### 상세 내용\n",
        "- 로그인 : 잡코리아 합격자소서를 여러 건 조회하려면 로그인이 필수적이므로 chrome webdriver에서 로그인을 직접 진행한다. (잡코리아 아이디, 비밀번호를 직접 Key-in 하므로 개인정보 이슈로 블라인드 처리)\n",
        "- \"의료.바이오\" 분야의 합격자소서 리스트를 조회할 수 있는 URL로 전체 자소서 리스트를 불러와 각 자소서별 상세 URL를 찾는다. Pagination은 Page=#NUMBER# 파라미터를 넘기는 방식으로 진행했다.\n",
        "- 상세 페이지 : 상세 URL로 접속하여 자소서 문항과 답변 내용을 가져온다.\n",
        "    - 자소서 첫 2개 문항만 토글되어 답변이 보이는 상태이므로 답변이 보이지 않는 문항에 대해서는 문항을 클릭하여 답변이 Unfold 되도록 액션을 추가했다.\n",
        "    - 예외 처리 : 자소서별 전문가 분석이 포함된 경우가 있어 HTML 구조가 다른 경우를 대비하여 예외 처리를 적용했다. 또한 \"선택하신 합격자소서 정보가 없습니다.\" 와 같이 유효하지 않은 URL의 경우 제외하도록 예외 처리하였다.\n",
        "- Output : 합격자소서 문항-답변 쌍을 JSON 파일 형식으로 저장한다.\n",
        "\n",
        "### 추후 방향\n",
        "- `의료.바이오`, `마케팅.광고.MD` 분야의 자기소개서 크롤링을 적용하여 다양한 데이터에 대해 안정성을 검증하였으므로 추후 `AI.개발.데이터`, `제조.생산`, `엔지니어링.설계` 등 분야로 확장하여 잡코리아의 7,893건의 자소서를 모두 크롤링하는데 활용할 수 있을 것이다."
      ],
      "metadata": {
        "id": "VN7OMwIXIvuY"
      }
    },
    {
      "cell_type": "code",
      "execution_count": null,
      "metadata": {
        "colab": {
          "base_uri": "https://localhost:8080/"
        },
        "id": "Qs2lLvE1ys1q",
        "outputId": "7573606a-423b-4606-c735-b499b27f5029"
      },
      "outputs": [
        {
          "output_type": "stream",
          "name": "stdout",
          "text": [
            "Collecting selenium\n",
            "  Downloading selenium-4.31.0-py3-none-any.whl.metadata (7.5 kB)\n",
            "Requirement already satisfied: urllib3<3,>=1.26 in /usr/local/lib/python3.11/dist-packages (from urllib3[socks]<3,>=1.26->selenium) (2.3.0)\n",
            "Collecting trio~=0.17 (from selenium)\n",
            "  Downloading trio-0.30.0-py3-none-any.whl.metadata (8.5 kB)\n",
            "Collecting trio-websocket~=0.9 (from selenium)\n",
            "  Downloading trio_websocket-0.12.2-py3-none-any.whl.metadata (5.1 kB)\n",
            "Requirement already satisfied: certifi>=2021.10.8 in /usr/local/lib/python3.11/dist-packages (from selenium) (2025.1.31)\n",
            "Requirement already satisfied: typing_extensions~=4.9 in /usr/local/lib/python3.11/dist-packages (from selenium) (4.13.2)\n",
            "Requirement already satisfied: websocket-client~=1.8 in /usr/local/lib/python3.11/dist-packages (from selenium) (1.8.0)\n",
            "Requirement already satisfied: attrs>=23.2.0 in /usr/local/lib/python3.11/dist-packages (from trio~=0.17->selenium) (25.3.0)\n",
            "Requirement already satisfied: sortedcontainers in /usr/local/lib/python3.11/dist-packages (from trio~=0.17->selenium) (2.4.0)\n",
            "Requirement already satisfied: idna in /usr/local/lib/python3.11/dist-packages (from trio~=0.17->selenium) (3.10)\n",
            "Collecting outcome (from trio~=0.17->selenium)\n",
            "  Downloading outcome-1.3.0.post0-py2.py3-none-any.whl.metadata (2.6 kB)\n",
            "Requirement already satisfied: sniffio>=1.3.0 in /usr/local/lib/python3.11/dist-packages (from trio~=0.17->selenium) (1.3.1)\n",
            "Collecting wsproto>=0.14 (from trio-websocket~=0.9->selenium)\n",
            "  Downloading wsproto-1.2.0-py3-none-any.whl.metadata (5.6 kB)\n",
            "Requirement already satisfied: pysocks!=1.5.7,<2.0,>=1.5.6 in /usr/local/lib/python3.11/dist-packages (from urllib3[socks]<3,>=1.26->selenium) (1.7.1)\n",
            "Requirement already satisfied: h11<1,>=0.9.0 in /usr/local/lib/python3.11/dist-packages (from wsproto>=0.14->trio-websocket~=0.9->selenium) (0.14.0)\n",
            "Downloading selenium-4.31.0-py3-none-any.whl (9.4 MB)\n",
            "\u001b[2K   \u001b[90m━━━━━━━━━━━━━━━━━━━━━━━━━━━━━━━━━━━━━━━━\u001b[0m \u001b[32m9.4/9.4 MB\u001b[0m \u001b[31m24.6 MB/s\u001b[0m eta \u001b[36m0:00:00\u001b[0m\n",
            "\u001b[?25hDownloading trio-0.30.0-py3-none-any.whl (499 kB)\n",
            "\u001b[2K   \u001b[90m━━━━━━━━━━━━━━━━━━━━━━━━━━━━━━━━━━━━━━━━\u001b[0m \u001b[32m499.2/499.2 kB\u001b[0m \u001b[31m16.5 MB/s\u001b[0m eta \u001b[36m0:00:00\u001b[0m\n",
            "\u001b[?25hDownloading trio_websocket-0.12.2-py3-none-any.whl (21 kB)\n",
            "Downloading outcome-1.3.0.post0-py2.py3-none-any.whl (10 kB)\n",
            "Downloading wsproto-1.2.0-py3-none-any.whl (24 kB)\n",
            "Installing collected packages: wsproto, outcome, trio, trio-websocket, selenium\n",
            "Successfully installed outcome-1.3.0.post0 selenium-4.31.0 trio-0.30.0 trio-websocket-0.12.2 wsproto-1.2.0\n"
          ]
        }
      ],
      "source": [
        "!pip install selenium"
      ]
    },
    {
      "cell_type": "code",
      "source": [
        "from selenium import webdriver\n",
        "from selenium.webdriver.common.by import By\n",
        "import time\n",
        "import math\n",
        "import csv\n",
        "import random\n",
        "import json"
      ],
      "metadata": {
        "id": "JIXUhz6s6eJC"
      },
      "execution_count": null,
      "outputs": []
    },
    {
      "cell_type": "code",
      "source": [
        "login_url = \"https://www.jobkorea.co.kr/Login/Login_Tot.asp?rDBName=GG&re_url=/\"\n",
        "bio_list_url = \"https://www.jobkorea.co.kr/starter/PassAssay?FavorCo_Stat=0&Pass_An_Stat=0&OrderBy=0&EduType=0&WorkType=0&schPart=10044&isSaved=1&Page=\"\n",
        "marketing_list_url = \"https://www.jobkorea.co.kr/starter/PassAssay?FavorCo_Stat=0&Pass_An_Stat=0&OrderBy=0&EduType=0&WorkType=0&schPart=10030&isSaved=1&Page=\""
      ],
      "metadata": {
        "id": "DOkb4cuV6Ou0"
      },
      "execution_count": null,
      "outputs": []
    },
    {
      "cell_type": "code",
      "source": [
        "# 랜덤 sleep 함수\n",
        "def random_sleep(min_sec=3, max_sec=5):\n",
        "    time.sleep(random.uniform(min_sec, max_sec))"
      ],
      "metadata": {
        "id": "0NLvqnNmAU1Q"
      },
      "execution_count": null,
      "outputs": []
    },
    {
      "cell_type": "code",
      "source": [
        "def login():\n",
        "    options = webdriver.ChromeOptions()\n",
        "    options.add_argument(\" --headless\")\n",
        "    options.add_argument(\" --disable-dev-shm-usage\")\n",
        "    options.add_argument(\" --no-sandbox\")\n",
        "    driver = webdriver.Chrome(options=options)\n",
        "\n",
        "    # 잡코리아 로그인 페이지 접속\n",
        "    driver.get(login_url)\n",
        "\n",
        "    # 로그인\n",
        "    driver.find_element(By.ID, 'M_ID').send_keys('****') # id\n",
        "    driver.find_element(By.ID, 'M_PWD').send_keys('****') # password\n",
        "    driver.find_element(By.CLASS_NAME, 'login-button').click()\n",
        "    random_sleep()\n",
        "    return driver"
      ],
      "metadata": {
        "id": "VVyNqs57C_K9"
      },
      "execution_count": null,
      "outputs": []
    },
    {
      "cell_type": "code",
      "source": [
        "def collect_list_urls(driver, url):\n",
        "    # 합격자소서 리스트 페이지 접속\n",
        "    driver.get(url + \"1\")\n",
        "    random_sleep()\n",
        "\n",
        "    # Pagination 계산\n",
        "    # 총 검색 건 수 가져오기\n",
        "    total_text = driver.find_element(By.CSS_SELECTOR, '#container > div.stContainer > div:nth-child(4) > h4 > span:nth-child(2)').text\n",
        "    total_count = int(''.join(filter(str.isdigit, total_text)))\n",
        "    print(\"총 검색 결과 수:\", total_count)\n",
        "\n",
        "    # 필요한 페이지 수 계산\n",
        "    per_page = 20\n",
        "    total_pages = math.ceil(total_count / per_page)\n",
        "    print(\"총 페이지 수:\", total_pages)\n",
        "\n",
        "    # 모든 페이지에서 자소서 url 수집\n",
        "    essay_direct_urls = []\n",
        "\n",
        "    for page_num in range(1, total_pages + 1):\n",
        "        target_url = url + str(page_num)\n",
        "        driver.get(target_url)\n",
        "        random_sleep()\n",
        "\n",
        "        elements = driver.find_elements(By.CSS_SELECTOR, \"#container > div.stContainer > div.starListsWrap.ctTarget > ul > li > a\")\n",
        "\n",
        "        for elem in elements:\n",
        "            href = elem.get_attribute('href')\n",
        "            if href and 'View' in href:\n",
        "                essay_direct_urls.append(href)\n",
        "\n",
        "        print(f\"{page_num} 페이지: 현재까지 수집된 URL 수: {len(essay_direct_urls)}\")\n",
        "\n",
        "    print(\"최종 수집된 URL 수:\", len(essay_direct_urls))\n",
        "    return essay_direct_urls"
      ],
      "metadata": {
        "id": "qUg8r8FAdVjg"
      },
      "execution_count": null,
      "outputs": []
    },
    {
      "cell_type": "code",
      "source": [
        "def collect_essays(driver, url_lists):\n",
        "    results = []\n",
        "\n",
        "    # 각 url 별로 View 페이지 접속\n",
        "    for idx, url in enumerate(url_lists, 1):\n",
        "        # 문항, 답변 가져오기\n",
        "        try:\n",
        "            driver.get(url)\n",
        "            random_sleep(2, 4)\n",
        "\n",
        "            company = driver.find_element(By.CSS_SELECTOR, '#container > div.stContainer > div.selfTopBx > div.viewTitWrap > h2 > strong > a').text\n",
        "            title = driver.find_element(By.CSS_SELECTOR, '#container > div.stContainer > div.selfTopBx > div.viewTitWrap > h2 > em').text\n",
        "\n",
        "            questions = driver.find_elements(By.CSS_SELECTOR, 'dl.qnaLists > dt > button > span.tx')\n",
        "            question_buttons = driver.find_elements(By.CSS_SELECTOR, 'dl.qnaLists > dt > button')\n",
        "            # answers = driver.find_elements(By.CSS_SELECTOR, 'dl.qnaLists > dd > div.tx')\n",
        "\n",
        "            qna_list = []\n",
        "\n",
        "            if questions and question_buttons:\n",
        "                for button, q in zip(question_buttons, questions):\n",
        "                    try:\n",
        "                        parent_dt = button.find_element(By.XPATH, '..')\n",
        "                        if 'on' not in parent_dt.get_attribute('class'):\n",
        "                            driver.execute_script(\"arguments[0].scrollIntoView(true);\", button)\n",
        "                            time.sleep(0.2)\n",
        "                            button.click()\n",
        "                            time.sleep(0.3)\n",
        "\n",
        "                        parent_dd = parent_dt.find_element(By.XPATH, 'following-sibling::dd[1]')\n",
        "                        answer_element = parent_dd.find_element(By.CSS_SELECTOR, 'div.tx')\n",
        "                        answer_text = answer_element.text.strip()\n",
        "\n",
        "                        qna_list.append({\n",
        "                            'question': q.text.strip(),\n",
        "                            'answer': answer_text\n",
        "                        })\n",
        "                    except Exception as e:\n",
        "                        print(f\"문항 클릭 실패 또는 답변 가져오기 실패: {e}\")\n",
        "            else:\n",
        "                try:\n",
        "                    questions = driver.find_elements(By.CSS_SELECTOR, 'dl.qnaLists > dt > button > span.tx')\n",
        "                    answer_block = driver.find_element(By.CSS_SELECTOR, 'dl.qnaLists > dd > div.tx')\n",
        "\n",
        "                    direct_text = answer_block.text.strip()\n",
        "                    b_tags = answer_block.find_elements(By.TAG_NAME, 'b')\n",
        "                    b_texts = [b.text.strip() for b in b_tags if b.text.strip()]\n",
        "\n",
        "                    full_answer = direct_text\n",
        "                    if b_texts:\n",
        "                        full_answer += \"\\n\" + \"\\n\".join(b_texts)\n",
        "\n",
        "                    qna_list.append({\n",
        "                        'question': q.text.strip(),\n",
        "                        'answer': a.text.strip()\n",
        "                    })\n",
        "                except Exception as e:\n",
        "                    print(f\"HTML 구조 오류로 가져오기 실패: {e}\")\n",
        "\n",
        "            results.append({'url': url, 'company': company, 'title': title, 'qas': qna_list})\n",
        "\n",
        "            print(f\"{idx}/{len(url_lists)} : {company} {title} 크롤링 완료\")\n",
        "            print(qna_list)\n",
        "\n",
        "        except Exception as e:\n",
        "            print(f\"{idx}/{len(url_lists)} : {url} 에서 에러 발생: {e}\")\n",
        "    return results"
      ],
      "metadata": {
        "id": "k0ydypwNdx-t"
      },
      "execution_count": null,
      "outputs": []
    },
    {
      "cell_type": "markdown",
      "source": [
        "## 의료.바이오 분야 자기소개서 수집"
      ],
      "metadata": {
        "id": "0cSPCX4gdEGo"
      }
    },
    {
      "cell_type": "code",
      "source": [
        "# 잡코리아 로그인\n",
        "driver = login()\n",
        "\n",
        "# 자기소개서 목록 URL 수집\n",
        "bio_essay_direct_urls = collect_list_urls(driver, bio_list_url)\n",
        "print(\"============================================\")\n",
        "\n",
        "# 자기소개서 내용 크롤링\n",
        "bio_results = collect_essays(driver, bio_essay_direct_urls)\n",
        "print(\"============================================\")\n",
        "\n",
        "# JSON 파일로 저장\n",
        "json_filename = \"jobkorea_pass_essays_bio.json\"\n",
        "with open(json_filename, mode='w', encoding='utf-8-sig') as f:\n",
        "    json.dump(bio_results, f, ensure_ascii=False, indent=2)\n",
        "\n",
        "# 드라이버 종료\n",
        "driver.quit()"
      ],
      "metadata": {
        "id": "CQOsZ0P76LV-"
      },
      "execution_count": null,
      "outputs": []
    },
    {
      "cell_type": "code",
      "source": [
        "# 의료.바이오 분야 자기소개서 예시\n",
        "bio_essay_direct_urls[0]\n",
        "bio_results[0]"
      ],
      "metadata": {
        "colab": {
          "base_uri": "https://localhost:8080/"
        },
        "id": "F8FN-YaJAoMn",
        "outputId": "434c87a0-8ebc-4c6e-b268-c636e8606f27"
      },
      "execution_count": null,
      "outputs": [
        {
          "output_type": "execute_result",
          "data": {
            "text/plain": [
              "{'url': 'https://www.jobkorea.co.kr/starter/PassAssay/View/240736?Page=1&OrderBy=0&FavorCo_Stat=0&schPart=10044&Pass_An_Stat=0',\n",
              " 'company': '(주)오뚜기',\n",
              " 'title': '2022년 하반기 신입 바이오·제약연구원',\n",
              " 'qas': [{'question': '지원직무를 위해 어떤 준비를 했는지 설명하십시오. (직무와 관련한 경험, 전공, 수강과목, 자격증 등을 포함하여 작성)',\n",
              "   'answer': '학위과정 중 다양한 친환경 고분자 소재를 성형/가공하여 다양한 형태로 제조하였고, 이에 대한 물성 분석을 진행하였습니다.\\n다양한 장비를 직접 운용하며 유변학적, 역학적, 열적, 광학적, 화학적, 전기적 특성을 측정하였고, 광범위한 분석 역량을 습득할 수 있었습니다.\\n특히 “인열강도가 향상된 생분해성 PLA 필름 소재 개발”이란 국책과제에 참여하여 PLA, PBAT 필름의 역학적 강도 향상을 위해 다양한 나노 필러를 도입하였습니다. 유변 분석을 통해 고분자/필러 간 상호작용을 분석하였고, 이를 결정화 거동(XRD, DSC)/광 투과도(UV-vis)/열 안정성(TGA)/역학적 특성(UTM)을 분석하여 최종 목표인 인열 강도 향상을 위한 최적 레시피 도출에 성공하였습니다. 다양한 특성 간의 상관관계를 파악하는 역량을 강화하여 이를 바탕으로 주 저자로서 1편, 공동저자로 3편의 논문을 게재하였습니다.\\n\\n또한 셀룰로오스 나노섬유를 가스센서의 기판으로 도입하였습니다. 제조 방식에 따라 나노섬유의 기능기가 달랐음을 FT-IR을 통해 확인하였으며, Raman 분석을 통해 기판이 Oxy-SWCNTs에 도핑효과를 주었음을 확인하였습니다.\\n이처럼 친환경 소재의 다양한 분석 경험과 이를 포장재에 응용하기 위한 레시피 도출 경험은 오뚜기에서도 친환경 포장재 개발에 큰 도움이 될 것이라 생각합니다.\\n글자수 672자\\n1,115Byte'},\n",
              "  {'question': '회사 또는 단체생활에 가장 필요한 태도, 역량은 무엇이라고 생각하는지 본인의 경험을 바탕으로 설명하십시오.',\n",
              "   'answer': '다른 사람의 성향을 파악하고 이를 잘 활용할 수 있는 역량이 필요하다고 생각합니다.\\n연구라는 것은 단순히 실험과 공부에 그치지 않고 서류 작성부터 과제 기획, 물품 관리 등 다양한 업무가 수반되며, 혼자서 할 수 있는 일은 제한되어 있습니다.\\n처음 연구실에 들어왔을 때, 선배로부터 과제비 관리, 시약 관리, 안전 관리 등 너무나 많은 부분을 한꺼번에 배우게 되었습니다. 장기적으로는 많은 일을 할 수 있는 것이 장점이 되었지만 처음부터 많은 업무를 수행하는 데 어려움이 컸습니다.\\n\\n이후 제가 연구실 담당이 되었을 때는 처음 들어오는 후배들에게 각자의 성향에 맞게 업무 분담을 시켰습니다. 꼼꼼함이 돋보이던 친구에게는 물품 관리에 대해 알려주었고, 책임감이 크다고 판단한 후배에게는 안전 관리에 대해 알려주었습니다. 각자의 성향에 맞는 일을 먼저 시작하니 빠르게 업무에 적응하였으며 서로의 업무를 가르치며 효율적으로 성장하는 기조를 구축하였습니다.\\n앞으로도 다른 사람의 성향을 파악하여 함께 성장하는 오뚜기의 신입 연구원이 되겠습니다.\\n글자수 529자\\n912Byte'},\n",
              "  {'question': '오뚜기에 지원한 이유와 입사 후 회사에서 이루고 싶은 꿈을 설명하십시오.',\n",
              "   'answer': '친환경 식품포장재 개발의 성공적인 상용화를 이끌어내고 싶습니다.\\n학위과정 중 다양한 친환경 소재를 직접 다뤄보며, 기업의 경제적/사회적 가치를 모두 실현시키는 것을 연구자로서 목표로 삼았고, 이는 많은 플라스틱 쓰레기를 배출하는 포장재에서부터 시작돼야 한다고 느꼈습니다.\\n이런 저의 목표는 오뚜기의 가치관과 잘 부합한다고 생각하였습니다. 오뚜기는 스마트 그린컵과 같은 친환경 제품을 지속적으로 확대 적용해 왔습니다. 또한 제품 개발뿐 만 아니라 포장 규격 개선, 리무버블 스티커 라벨 적용 등 다양한 방법으로 환경문제를 개선하는데 앞장서고 있습니다. 일찍이 환경에 관심을 갖고 환경 경영을 실천해온 대표적인 기업으로 잘 알려진 친환경 기업 오뚜기에서, 환경적 가치 실현에 앞장서는 연구자가 되겠습니다.\\n글자수 394자\\n687Byte'}]}"
            ]
          },
          "metadata": {},
          "execution_count": 13
        }
      ]
    },
    {
      "cell_type": "markdown",
      "source": [
        "## 마케팅.광고.MD 분야 자기소개서 수집"
      ],
      "metadata": {
        "id": "tSxq4dgqeiOf"
      }
    },
    {
      "cell_type": "code",
      "source": [
        "# 잡코리아 로그인\n",
        "driver = login()\n",
        "\n",
        "# 자기소개서 목록 URL 수집\n",
        "marketing_essay_direct_urls = collect_list_urls(driver, marketing_list_url)\n",
        "print(marketing_essay_direct_urls)\n",
        "print(\"============================================\")\n",
        "\n",
        "# 자기소개서 내용 크롤링\n",
        "marketing_results = collect_essays(driver, marketing_essay_direct_urls)\n",
        "print(\"============================================\")\n",
        "\n",
        "# JSON 파일로 저장\n",
        "json_filename = \"jobkorea_pass_essays_marketing.json\"\n",
        "with open(json_filename, mode='w', encoding='utf-8-sig') as f:\n",
        "    json.dump(marketing_results, f, ensure_ascii=False, indent=2)\n",
        "\n",
        "# 드라이버 종료\n",
        "driver.quit()"
      ],
      "metadata": {
        "id": "dq1wFQg9eonf"
      },
      "execution_count": null,
      "outputs": []
    },
    {
      "cell_type": "code",
      "source": [
        "# 마케팅.광고.MD 분야 자기소개서 예시\n",
        "marketing_essay_direct_urls[0]\n",
        "marketing_results[0]"
      ],
      "metadata": {
        "colab": {
          "base_uri": "https://localhost:8080/"
        },
        "id": "pdvmWlylexl2",
        "outputId": "66d76376-96ee-41ad-ba3b-cf8c141f73e7"
      },
      "execution_count": null,
      "outputs": [
        {
          "output_type": "execute_result",
          "data": {
            "text/plain": [
              "{'url': 'https://www.jobkorea.co.kr/starter/PassAssay/View/241746?Page=1&OrderBy=0&FavorCo_Stat=0&schPart=10030&Pass_An_Stat=0',\n",
              " 'company': '이랜드월드',\n",
              " 'title': '2023년 상반기 인턴 MD',\n",
              " 'qas': [{'question': '삶을 통해 이루고 싶은 인생의 비전 또는 목표 3가지를 우선순위 순으로 적어주십시오. (300자)',\n",
              "   'answer': '\"전 세계를 향한 울림\"\\n이랜드월드에서 동료들과 함께 전 세계의 고객들이 열광하는 상품을 기획하고 싶습니다. 이를 위해 이커머스, 유통, 콘텐츠, 마케팅 등 다양한 직무에서 기획 역량을 쌓았습니다.\\n\\n\"믿고 따를 수 있는 사람\"\\n좋은 사례 없이 성장하기란 쉽지 않습니다. 실무역량을 갖춘 멘토가 되어 후배들을 양성하고, 그들과 함께 미래 산업을 선도해나가고 싶습니다.\\n\\n\"고객의 만족, 가족의 사랑\"\\n산업에 대한 관심을 바탕으로 고객들의 니즈를 만족시키는 데 최선을 다하며, 가족들에게도 절대 소홀하지 않은 사람이 되고 싶습니다.\\n글자수 303자\\n511Byte'},\n",
              "  {'question': '자신이 다른 사람과 구별되는 능력이나 기질을 써주십시오. (300자)',\n",
              "   'answer': '\"책임감 아래 빠르게 배우려는 태도\"\\n두 달간 매일 새벽 6시 30분 OOO OOOO점에서 물류 입고도우미로 근무했습니다. 소비 트렌드와 유통업 전반에 대해 배우고 싶었기 때문입니다. 가장 가까운 곳에서 프로세스를 관찰하고 몸으로 느껴보자 다짐하며 업무에 임하였고, 하루 평균 300개 이상의 상품 박스를 나르고 배치하며 상권 특성에 따른 인기 상품의 종류와 특정 시즌을 준비하는 시기도 알 수 있었습니다. 비가 오는 날도 컨디션이\\n나쁜 날도 있었지만, 책임감을 가지고 계약기간 내 한 번의 지각과 결근 없이 일한 결과였습니다.\\n글자수 298자\\n500Byte'},\n",
              "  {'question': '자신의 인생에 가장 영향을 끼친 사건 3가지를 든다면? (300자)',\n",
              "   'answer': '\"작은 전공에서 펼친 넓은 시야\"\\n예술과 문화산업 전반을 다루는 특별한 전공을 선택해 공부했고, 다양한 분야에 관심을 둔 학우들을 만나 시야를 확장했습니다.\\n\\n\"가치관을 만든 상급자\"\\n장교로 복무하며 솔선수범을 통해 구성원의 역량을 100%를 이끌어내는 상급자를 만나 책임감과 전문성에 기반한 올곧은 가치관을 형성하게 되었습니다.\\n\\n\"나의 경험을 위한 투자\"\\n전역 후 2주간의 미국 LA 여행에 모아둔 돈과 시간을 투자했습니다. 동경해 온 패션과 문화산업 트렌드의 최첨단을 경험하며 진정으로 좋아하는 것을 찾을 수 있었습니다.\\n글자수 301자\\n508Byte'},\n",
              "  {'question': '살아오면서 자신이 성취한 것 중 자랑할 만한 것을 1, 2가지 소개해 주십시오. (300자)',\n",
              "   'answer': '\"조회수를 600% 성장시킨 PD\"\\n이전 콘텐츠에서 1,550회에 머무르던 조회수를 신규 콘텐츠에선 9,931회까지 약 600% 성장시켜 본 경험이 있습니다.\\n대학 시절 대외활동으로 참여한 OOOOO PD 활동 당시, 주요 시청자를 타겟팅하고 관심도가 높은 키워드를 검색량 비교분석을 통해 도출해 활용하는 등 개선을 진행한 결과였습니다. 콘텐츠의 시청각적 완성도만큼이나 유통 프로세스 속 데이터에 집중함으로써 시청자의 반응을 이끌어낼 수 있었고, 교내 자기 주도학기제에도 성과를 공유하여 우수상(전체 2위)을 수상할 수 있었습니다.\\n글자수 300자\\n497Byte'},\n",
              "  {'question': '본인이 남들과 다르게 몰입했거나, 남다른 지식이 있는 영역이 있다면 작성해주세요. (300자)',\n",
              "   'answer': '\"구제 의류 인터넷 쇼핑 80벌의 여정\"\\n인터넷 쇼핑으로만 1,537,000원어치, 80벌 이상의 구제 의류를 구매하고 착용했습니다. 동묘, 광장시장 등에 위치한 구제 샵들을 하루종일 돌아다니며 쇼핑백 가득 옷을 구매해보기도 했습니다. 처음엔 좋은 옷을 찾는 노하우가 없어 가품을 구매하거나 구매한 옷의 절반을 버리는 등 시행착오를 겪었습니다. 하지만 경험이 누적되며 비교적 적은 비용으로도 스스로에게 어울리는 스타일을 찾아갔고, 다양한 브랜드의 제품에서 핏, 소재, 마감 등 디테일한 차이를 이해할 수 있게 되었습니다.\\n글자수 293자\\n495Byte'},\n",
              "  {'question': '자신에게 있어서 직장생활의 의미를 써 주십시오. (500자)',\n",
              "   'answer': '\"성장을 스스로 만들 수 있는 곳\"\\n저는 직장생활의 의미를 ‘스스로 만들어 나가는 성장’에 두고 있습니다. 직장에는 일타 강사도, 고민 없이 따르기만 하면 되는 커리큘럼도 없습니다. 그럼에도 불구하고 직장생활 속에서 성장은 이루어집니다. 이는 고객의 만족이라는 하나의 목표 아래 공동체가 힘을 모아 가치를 만들어 나가는 주도적인 노력이 수반되기 때문입니다. 이러한 노력엔 정답도, 정량적인 평가 기준도 없어 늘 어려움이 따를 것입니다. 제품을 구매하는 소비자부터 직장 내 이해관계자까지 수없이 많은 고객에게 가치를 제공하는 것 역시 어려울 것입니다.\\n저는 이랜드월드와 함께 그 어려움을 이겨내 보고자 합니다. 이랜드월드의 신뢰할 수 있는 동료들과 머리를 맞대어 신속한 의사결정으로 주어진 과제를 해결해 나가겠습니다. 모든 결과는 정직하게 받아들이되, 성과도 책임도 공정하게 나누겠습니다. 고객의 만족을 최우선 가치로 삼고 위와 같이 노력하여, 제가 생각한 직장생활의 의미에 도달할 것입니다.\\n글자수 501자\\n868Byte'},\n",
              "  {'question': '지원동기를 구체적으로 적어 주십시오. (500자)',\n",
              "   'answer': '\"고객 중심, 신속 대응\"\\n이랜드월드의 스파오는 고객으로부터의 인사이트를 생산 기준으로 하는 ‘2일 생산 모델’을 SPA 브랜드 최초로 완성했습니다. 이를 통해 평균 2주가 걸리는 프로세스를 2일로 단축하고 80%의 시즌당 정상 판매율을 함께 달성했습니다.\\n저 또한 육군 장교로 복무하며 고객조사에서 얻은 인사이트를 기획에 활용해 성과를 달성해 보았습니다. 포병 안전교육 영상을 제작하는 프로젝트를 맡은 당시, 병과 차이로 배경지식이 부족했던 상황을 극복하기 위해 영상을 실제로 활용할 부대 내 5개 분야 실무진들을 만나 공통된 의견을 종합했습니다. 그 결과 사고사례를 중점으로 제작하면 보다 쉽게 접근할 수 있을 것이란 인사이트를 얻었고, 이를 바탕으로 영상을 제작하여 인접한 3개 부대에 우수사례로 공유되는 성과까지 달성할 수 있었습니다. 고객에 귀 기울이며 신속하게 의사결정하고 변화하는 시장에 능동적으로 대응하는 이랜드월드에서 이러한 저의 경험과 역량을 펼쳐보고 싶습니다.\\n글자수 494자\\n852Byte'},\n",
              "  {'question': '위에서 표현되지 못한 자기소개를 간단하게 적어 주십시오. (1600자)',\n",
              "   'answer': '\"설득력 있는 기획을 위한 533시간의 부트캠프\"\\n데이터 기반 기획 역량을 기르고자 4개월간 IT 서비스기획 오프라인 부트캠프에 참여했습니다. 유니콘 기업부터 대기업까지 현직 실무진들의 지도하에 신규, 개선 기획 프로세스를 숙달하였고, 유저 리서치와 지표 설계 및 분석 등을 실습하며 고객의 목소리에서 아이디어를 도출하고 이를 검증하는 과정을 이해하게 되었습니다. 매주 학습한 내용은 개인 블로그에 공유함으로써 머릿속 아이디어를 누구나 이해할 수 있는 텍스트로 정리하는 노하우도 얻을 수 있었습니다. 또한 부트캠프의 정규 과정과는 별도로 진행된 패션 이커머스 검색화면 개선 기획 프로젝트에 참여했습니다. 2주간 진행된 프로젝트에서 경쟁사 4곳의 제품 탐색 과정을 직접 경험하며 총 6가지의 크고 작은 문제점을 도출했고, 더 수준 높은 소비자 경험을 제공하기 위한 방안들을 제안할 수 있었습니다.\\n\\n\"주도적으로 확장한 역할과 이를 통한 계약연장 제안\"\\n마케팅 대행사에서 기획팀 사무보조로 근무하며 저의 역할을 주도적으로 확장하고 이를 성공적으로 수행하며 계약연장을 제안받은 경험이 있습니다. 당시 저는 이벤트 참여자 데이터를 취합하는 계약직 사무보조로 최초 합류했습니다. 하지만 마케팅 분야에서의\\n기획 경험을 쌓고자 추가적인 역할을 제안드렸고, 기존 팀원들이 담당해 온 이벤트 콘텐츠 기획의 약 60%가량을 함께할 기회를 얻어냈습니다. 시행착오 없이 기존 팀원들의 업무 속도에 맞게 기획안을 완성하고자, 자사의 이전 기획안들을 분석하고 경쟁사 벤치마킹을 수 차례 진행했습니다. 그 결과 2개월간 공식 인스타그램에 게시될 총 21개의 이벤트 콘텐츠에 대한 기획안을 작성할 수 있었습니다. 기획한 이벤트 콘텐츠들이 차례대로 게시되었을 땐 해당 브랜드의 인스타그램 팔로워가 828명 증가하었으며, 이에 대한 기여를 인정받아 계약연장까지 제안받을 수 있었습니다. 비록 근무 일정 문제로 제안은 고사하였지만 기획 업무에 주도적으로 도전하고 역량을 검증해 본 의미 있는 경험이 되었습니다.\\n\\n\"혼자보다 둘, 둘보다는 셋\"\\n저는 팀원들과 커뮤니케이션하며 함께 일하는 것의 가치를 알고 있습니다. 학군사관후보생 시절, 4번의 학기 중 2번의 학기 동안 자치위원 직책을 맡으며 연말 축제와 해외 전적지 답사 등 큰 행사를 준비해야 할 때가 있었습니다. 처음에는 커뮤니케이션 없이 혼자만의 고민으로 결과를 도출하는 것이 더 쉬울 것이라 판단했습니다. 하지만 상급자가 100% 만족하는 유의미한 결과물을 완성하지 못하며 어려움을 겪었습니다. 이후 주변 동기들에게 도움을 구해보게 되었고, 어려움을 해결할 수 있는 실마리를 찾게 되었습니다.\\n잘 알지 못했던 동기들의 역량을 새롭게 파악하여 이를 통해 도움을 받거나, 혼자서는 생각하지 못했던 아이디어들을 얻을 수 있다는 사실을 알게 되었기 때문입니다. 또한 저의 아이디어를 직접 경험하게 될 고객의 관점에서 만족스럽지 못한 요소들을 미리 파악할\\n기회 역시 가질 수 있었습니다. 더 넓은 시야, 그리고 고객의 관점이 고려된 결과물은 상급자의 만족으로 이어졌으며 저 또한 함께\\n일할 때 최고의 결과물에 도달할 수 있음을 깨닫게 되었습니다.\\n글자수 1,561자\\n2,684Byte'}]}"
            ]
          },
          "metadata": {},
          "execution_count": 71
        }
      ]
    }
  ]
}